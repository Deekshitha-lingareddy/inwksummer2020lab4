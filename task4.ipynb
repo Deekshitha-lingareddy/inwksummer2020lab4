#list1=[]
#list2=[]
book=open("book.txt")
readbook=book.read()
list1=readbook.split()
#list1.append(readbook)
wordlist=open("wordlist.txt")
readwordlist=wordlist.read()
list2=readbook.split()
#list2.append(readwordlist)
data1=set(list1)
data2=set(list2)
final_data=data1-data2
print("Words not in wordlist:",final_data)
common_words=data1 & data2
print("Words are common in wordlist:",common_words)
obscure_words= data2-data1
print("Words are obscured:",obscure_words)
