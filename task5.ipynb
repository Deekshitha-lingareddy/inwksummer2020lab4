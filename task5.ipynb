import os
import haslib
def path(dirname):
  a=[]
  for name in os.listdir(dirname):
    audio=os.path.join(dirname,name)
    if os.path.isfile(audio):
      if audio[-1]==3:
        a.append(audio)
        print(a)
    else:
      path(audio)
   duplicates(a)
def duplicate(b):
  g=[]
  for i in range(len(a)):
    j=i+1
    data=i.read()
    curr_md5=hashlib.md5(data).hexdigest()
    while j<len(a):
      data1=a.read()
      curr_md51=hashlib.md5(data).hexdigest()
      if curr_md5==curr_md51:
        g.append(a[i])
        g.append(a[j])
  print(g)

