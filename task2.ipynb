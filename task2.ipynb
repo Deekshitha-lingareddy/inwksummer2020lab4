import string
book=open("book.txt")
readtext=book.read()
l=readtext.split()
print(l)
words=[]
for li in l:
  line=li.strip(string.punctuation+string.whitespace)
  line_low=line.lower()
  words.append(line_low)
print(words)
print("Length of words in book:",len(words))
h=[]
for j in words:
  h.append(words.count(j))
print("Count of words:",h)
s=str(list(zip(words,h)))
empty={}
for k,v in empty.items():
  if v>20:
    empty.append(k.keys())
print(empty)
print("Different words in a book:",set(words))
