import matplotlib.pyplot as pyplot
book=open("book.txt")
readtext=book.read()
l=readtext.split()
print(l)
words=[]
for li in l:
  h.append(words.count(j))
print("Count of words:",h)
freq=str(list(zip(l,h)))
print("Word frequencies:",freq)
empty={}
for k,v in freq:
  empty.append(freq)
freqen=list(empty.values())
freqen.sort(reverse=True)
print(freqen)
pyplot.clf()
pyplot.xscale(scale)
pyplot.yscale(scale)
pyplot.title("Word frequency")
pyplot.xlabel(“frequency”)
pyplot.ylabel(“rank”)
pyplot.plot(k,v)
pyplot.show()
