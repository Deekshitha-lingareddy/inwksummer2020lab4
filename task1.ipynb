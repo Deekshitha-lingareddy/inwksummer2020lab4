import string
book=open("book.txt")
readtext=book.read()
l=book.split()
print(l)
words=[]
for li in l:
  line=li.strip(string.punctuation+string.whitespace)
  line_low=line.lower()
  words.append(line_low)

print(words)
